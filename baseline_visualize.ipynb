{
 "cells": [
  {
   "cell_type": "code",
   "execution_count": 7,
   "metadata": {},
   "outputs": [],
   "source": [
    "import gymnasium as gym\n",
    "from stable_baselines3 import PPO\n",
    "import cv2\n",
    "import numpy as np\n",
    "from stable_baselines3.common.monitor import Monitor\n",
    "from stable_baselines3.common.vec_env import DummyVecEnv, VecFrameStack, VecTransposeImage\n",
    "import os\n",
    "import imageio\n"
   ]
  },
  {
   "cell_type": "code",
   "execution_count": 15,
   "metadata": {},
   "outputs": [
    {
     "name": "stdout",
     "output_type": "stream",
     "text": [
      "Rendering is supported.\n",
      "Using cpu device\n"
     ]
    }
   ],
   "source": [
    "# Define the environment with preprocessing to match the training setup\n",
    "def make_env():\n",
    "    env = gym.make(\"CarRacing-v2\", render_mode=\"rgb_array\")\n",
    "    env = Monitor(env)  # Wrap with Monitor to keep track of statistics\n",
    "    return env\n",
    "\n",
    "env = DummyVecEnv([make_env])\n",
    "env = VecFrameStack(env, n_stack=4)  # Stack 4 frames\n",
    "env = VecTransposeImage(env)  # Ensure correct format for image-based observations\n",
    "\n",
    "# Test rendering capability\n",
    "try:\n",
    "    obs = env.reset()\n",
    "    frame = env.render()\n",
    "    if frame is None:\n",
    "        raise ValueError(\"Environment rendering returned None. Ensure the environment supports rendering in 'rgb_array' mode.\")\n",
    "    print(\"Rendering is supported.\")\n",
    "except Exception as e:\n",
    "    print(f\"Error during rendering test: {e}\")\n",
    "\n",
    "steps = 1000000\n",
    "Path = f'logs/ppo_carracing_model_{steps}_steps.zip'\n",
    "\n",
    "# Initialize a new model with the correct observation and action spaces\n",
    "model = PPO(\"CnnPolicy\", env, verbose=1)\n",
    "\n",
    "# Load the trained weights\n",
    "model.set_parameters(Path)\n",
    "\n",
    "# Function to capture and save video\n",
    "def record_video(env, model, video_length=500, prefix=f'ppo_carracing_{steps}'):\n",
    "    \"\"\"\n",
    "    Record a video of the agent using the trained model.\n",
    "    \"\"\"\n",
    "    # Reset the environment and get the initial frame\n",
    "    obs = env.reset()\n",
    "    initial_frame = env.render()\n",
    "    \n",
    "    # Check if the initial frame is valid\n",
    "    if initial_frame is None:\n",
    "        raise ValueError(\"Environment rendering returned None. Ensure the environment supports rendering in 'rgb_array' mode.\")\n",
    "\n",
    "    frame_size = (initial_frame.shape[1], initial_frame.shape[0])\n",
    "    video_filename = f\"videos/{prefix}_video.avi\"\n",
    "    out = cv2.VideoWriter(video_filename, cv2.VideoWriter_fourcc(*'MJPG'), 20, frame_size)\n",
    "\n",
    "    for _ in range(video_length):\n",
    "        action, _states = model.predict(obs, deterministic=True)\n",
    "        obs, rewards, dones, info = env.step(action)\n",
    "        frame = env.render()\n",
    "        \n",
    "        # Check if frame is valid\n",
    "        if frame is not None:\n",
    "            out.write(cv2.cvtColor(frame, cv2.COLOR_RGB2BGR))\n",
    "        \n",
    "        if dones:\n",
    "            obs = env.reset()\n",
    "\n",
    "    out.release()\n",
    "    print(f\"Video saved as {video_filename}\")"
   ]
  },
  {
   "cell_type": "code",
   "execution_count": 16,
   "metadata": {},
   "outputs": [
    {
     "name": "stdout",
     "output_type": "stream",
     "text": [
      "Video saved as videos/ppo_carracing_1000000_video.avi\n"
     ]
    }
   ],
   "source": [
    "# Record the video\n",
    "record_video(env, model)"
   ]
  },
  {
   "cell_type": "code",
   "execution_count": null,
   "metadata": {},
   "outputs": [],
   "source": []
  }
 ],
 "metadata": {
  "kernelspec": {
   "display_name": "rlcar",
   "language": "python",
   "name": "python3"
  },
  "language_info": {
   "codemirror_mode": {
    "name": "ipython",
    "version": 3
   },
   "file_extension": ".py",
   "mimetype": "text/x-python",
   "name": "python",
   "nbconvert_exporter": "python",
   "pygments_lexer": "ipython3",
   "version": "3.9.19"
  }
 },
 "nbformat": 4,
 "nbformat_minor": 2
}
