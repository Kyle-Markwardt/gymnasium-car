{
 "cells": [
  {
   "cell_type": "code",
   "execution_count": 3,
   "metadata": {},
   "outputs": [],
   "source": [
    "import subprocess\n",
    "import os\n",
    "\n",
    "def convert_avi_to_gif(input_video_path, output_gif_path, fps=10, scale_width=320):\n",
    "    command = [\n",
    "        \"ffmpeg\",\n",
    "        \"-i\", input_video_path,\n",
    "        \"-vf\", f\"fps={fps},scale={scale_width}:-1:flags=lanczos\",\n",
    "        output_gif_path\n",
    "    ]\n",
    "    \n",
    "    result = subprocess.run(command, stdout=subprocess.PIPE, stderr=subprocess.PIPE)\n",
    "    \n",
    "    if result.returncode == 0:\n",
    "        print(f\"Successfully converted {input_video_path} to {output_gif_path}\")\n",
    "    else:\n",
    "        print(f\"Error converting video: {result.stderr.decode('utf-8')}\")\n",
    "\n"
   ]
  },
  {
   "cell_type": "code",
   "execution_count": 7,
   "metadata": {},
   "outputs": [
    {
     "name": "stdout",
     "output_type": "stream",
     "text": [
      "Successfully converted videos/ppo_carracing_v2_930000_video.avi to images/gifs/ppo_carracing_v2_930000_video.gif\n",
      "Successfully converted videos/ppo_carracing_v3_540000_video.avi to images/gifs/ppo_carracing_v3_540000_video.gif\n",
      "Successfully converted videos/ppo_carracing_1000000_video_v1.avi to images/gifs/ppo_carracing_1000000_video_v1.gif\n",
      "Successfully converted videos/ppo_carracing_v3_1000000_video.avi to images/gifs/ppo_carracing_v3_1000000_video.gif\n",
      "Successfully converted videos/ppo_carracing_460000_video_v1.avi to images/gifs/ppo_carracing_460000_video_v1.gif\n",
      "Successfully converted videos/ppo_carracing_v4_490000_video.avi to images/gifs/ppo_carracing_v4_490000_video.gif\n",
      "Successfully converted videos/ppo_carracing_v4_200000_video.avi to images/gifs/ppo_carracing_v4_200000_video.gif\n",
      "Successfully converted videos/ppo_carracing_10000_video_v1.avi to images/gifs/ppo_carracing_10000_video_v1.gif\n"
     ]
    }
   ],
   "source": [
    "# Loop through the \"videos/\" folder and convert each .avi file\n",
    "input_folder = \"videos\"\n",
    "output_folder = \"images/gifs\"\n",
    "\n",
    "if not os.path.exists(output_folder):\n",
    "    os.makedirs(output_folder)\n",
    "\n",
    "for filename in os.listdir(input_folder):\n",
    "    if filename.endswith(\".avi\"):\n",
    "        input_video_path = os.path.join(input_folder, filename)\n",
    "        output_gif_path = os.path.join(output_folder, os.path.splitext(filename)[0] + \".gif\")\n",
    "        convert_avi_to_gif(input_video_path, output_gif_path)\n"
   ]
  },
  {
   "cell_type": "code",
   "execution_count": null,
   "metadata": {},
   "outputs": [],
   "source": []
  }
 ],
 "metadata": {
  "kernelspec": {
   "display_name": "rlcar_viz",
   "language": "python",
   "name": "python3"
  },
  "language_info": {
   "codemirror_mode": {
    "name": "ipython",
    "version": 3
   },
   "file_extension": ".py",
   "mimetype": "text/x-python",
   "name": "python",
   "nbconvert_exporter": "python",
   "pygments_lexer": "ipython3",
   "version": "3.9.19"
  }
 },
 "nbformat": 4,
 "nbformat_minor": 2
}
